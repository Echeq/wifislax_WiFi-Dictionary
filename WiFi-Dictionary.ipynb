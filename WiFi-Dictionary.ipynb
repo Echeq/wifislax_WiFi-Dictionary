{
 "cells": [
  {
   "cell_type": "code",
   "execution_count": 1,
   "id": "c6bff9e4-772b-4fb5-b619-0e16a9e4f97a",
   "metadata": {},
   "outputs": [],
   "source": [
    "# Nombre del archivo de salida\n",
    "filename = \"wifi_dictionary.txt\""
   ]
  },
  {
   "cell_type": "code",
   "execution_count": 3,
   "id": "db2b880d-17bf-425e-8229-02d193b36b7c",
   "metadata": {},
   "outputs": [],
   "source": [
    "# Abrir el archivo en modo escritura\n",
    "with open(filename, \"w\") as file:\n",
    "    # Iterar desde 00000001 hasta 99999999\n",
    "    for i in range(1, 100000000):\n",
    "        # Formatear el número con ceros a la izquierda para que tenga 8 dígitos\n",
    "        wifi_number = f\"{i:08d}\"\n",
    "        # Escribir el valor en el archivo, seguido de un salto de línea\n",
    "        file.write(f\"WiFi-{wifi_number}\\n\")"
   ]
  },
  {
   "cell_type": "code",
   "execution_count": 4,
   "id": "44a3cd81-5fa8-4e0e-b10c-5b3a6faecd71",
   "metadata": {},
   "outputs": [
    {
     "name": "stdout",
     "output_type": "stream",
     "text": [
      "El archivo wifi_dictionary.txt ha sido creado exitosamente.\n"
     ]
    }
   ],
   "source": [
    "print(f\"El archivo {filename} ha sido creado exitosamente.\")"
   ]
  },
  {
   "cell_type": "code",
   "execution_count": null,
   "id": "7091203b-7821-4265-bb55-52dff2bd4ed0",
   "metadata": {},
   "outputs": [],
   "source": []
  }
 ],
 "metadata": {
  "kernelspec": {
   "display_name": "Python 3 (ipykernel)",
   "language": "python",
   "name": "python3"
  },
  "language_info": {
   "codemirror_mode": {
    "name": "ipython",
    "version": 3
   },
   "file_extension": ".py",
   "mimetype": "text/x-python",
   "name": "python",
   "nbconvert_exporter": "python",
   "pygments_lexer": "ipython3",
   "version": "3.12.7"
  }
 },
 "nbformat": 4,
 "nbformat_minor": 5
}
